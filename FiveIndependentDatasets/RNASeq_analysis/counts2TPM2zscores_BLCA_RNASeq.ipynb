{
 "cells": [
  {
   "cell_type": "code",
   "execution_count": 19,
   "metadata": {
    "ExecuteTime": {
     "end_time": "2023-10-06T07:50:06.858899579Z",
     "start_time": "2023-10-06T07:50:06.853825048Z"
    }
   },
   "outputs": [],
   "source": [
    "from rna_seq_normalization import Normalization as Norm\n",
    "import pandas as pd\n",
    "import os\n",
    "from sklearn.preprocessing import StandardScaler"
   ]
  },
  {
   "cell_type": "code",
   "execution_count": 20,
   "metadata": {},
   "outputs": [],
   "source": [
    "def intersection(lst1, lst2):\n",
    "    lst3 = [value for value in lst1 if value in lst2]\n",
    "    return lst3"
   ]
  },
  {
   "cell_type": "markdown",
   "metadata": {},
   "source": [
    "Define the project names, the path and the files with the raw tables of counts"
   ]
  },
  {
   "cell_type": "code",
   "execution_count": 21,
   "metadata": {
    "ExecuteTime": {
     "end_time": "2023-10-06T07:50:01.486680469Z",
     "start_time": "2023-10-06T07:50:01.469754345Z"
    }
   },
   "outputs": [],
   "source": [
    "DIR=\"/users/genomics/marta/BLCA\"\n",
    "projects = ['HdM-BLCA-1','SNY-2017','IMvigor210','UC-GENOME','UNC-108']\n",
    "projects_counts_genenames = {'HdM-BLCA-1':'/users/genomics/marta/BLCA/HdM-BLCA-1/analysis/01_counts/CountsTable_genename_20patients.txt',\n",
    "                             'SNY-2017':'/users/genomics/marta/BLCA/SNY-2017/analysis/01_counts/CountsTable_genename.txt',\n",
    "                             'IMvigor210':'/users/genomics/marta/BLCA/IMvigor210/analysis/01_counts/CountsTable_genename_346.txt',\n",
    "                             'UC-GENOME':'/users/genomics/sergiov/UC-Genome/Count_files/gene_names_counts.txt'}\n",
    "\n",
    "projects_patients = {'HdM-BLCA-1':'/users/genomics/marta/BLCA/HdM-BLCA-1/patients_response.csv',\n",
    "                     'SNY-2017':'/users/genomics/marta/BLCA/SNY-2017/patients_response.csv',\n",
    "                     'IMvigor210':'/users/genomics/marta/BLCA/IMvigor210/patients_response.csv',\n",
    "                     'UC-GENOME':'/users/genomics/marta/BLCA/UC-GENOME/patients_response.csv',\n",
    "                     'UNC-108':'/users/genomics/marta/BLCA/UNC-108/patients_response.csv'}"
   ]
  },
  {
   "cell_type": "markdown",
   "metadata": {},
   "source": [
    "Create a dictionary to later on convert patient codes to the desired patient ids"
   ]
  },
  {
   "cell_type": "code",
   "execution_count": 22,
   "metadata": {
    "ExecuteTime": {
     "end_time": "2023-10-06T07:49:14.385852151Z",
     "start_time": "2023-10-06T07:49:14.368486700Z"
    }
   },
   "outputs": [],
   "source": [
    "## UC-GENOME\n",
    "to_change_names_UCG = pd.read_csv(\"/users/genomics/marta/BLCA/UC-GENOME/patients_run_response.csv\")\n",
    "to_change_names_UCG.drop(\"Response\", axis=1, inplace=True)\n",
    "to_change_names_UCG_dict = dict(zip(to_change_names_UCG.Run, to_change_names_UCG.patient))"
   ]
  },
  {
   "cell_type": "code",
   "execution_count": 23,
   "metadata": {
    "ExecuteTime": {
     "end_time": "2023-10-06T08:02:36.038851460Z",
     "start_time": "2023-10-06T08:02:36.017990790Z"
    }
   },
   "outputs": [],
   "source": [
    "## SNYDER\n",
    "to_change_names_SNY = pd.read_csv(\"/users/genomics/marta/BLCA/SNY-2017/patients_index_response.csv\")\n",
    "to_change_names_SNY.drop(\"Response\", axis=1, inplace=True)\n",
    "to_change_names_SNY_dict = dict(zip(to_change_names_SNY['index'], to_change_names_SNY.patient))\n",
    "to_change_names_SNY_dict = {str(key): value for key, value in to_change_names_SNY_dict.items()}"
   ]
  },
  {
   "cell_type": "markdown",
   "metadata": {},
   "source": [
    "### Convert counts to TPMs"
   ]
  },
  {
   "cell_type": "code",
   "execution_count": null,
   "metadata": {
    "ExecuteTime": {
     "end_time": "2023-10-06T08:07:59.809256923Z",
     "start_time": "2023-10-06T08:07:14.247079992Z"
    },
    "scrolled": true
   },
   "outputs": [],
   "source": [
    "# clean headers\n",
    "for proj, counts in projects_counts_genenames.items():\n",
    "    print(proj)\n",
    "    # read patients info\n",
    "    patients = pd.read_csv(projects_patients[proj])\n",
    "    patients_list = patients.patient.values.tolist()\n",
    "    patients_list = [str(item) for item in patients_list]\n",
    "    print(len(patients_list), \" patients\")\n",
    "    \n",
    "    # import the raw table of counts\n",
    "    tableofcounts = pd.read_csv(counts, sep=\"\\t\", comment='#')\n",
    "    tableofcounts.rename(columns={'Geneid':'gene_name'}, inplace=True)\n",
    "\n",
    "    # columns to modify (corresponding to patients)\n",
    "    filter_col = [col for col in tableofcounts if col.startswith('/')]\n",
    "\n",
    "    if proj == \"IMvigor210\":\n",
    "        for col in filter_col:\n",
    "            # get only patient code\n",
    "            if '10240' in col or '10304' in col or '10280' in col or '10129' in col or '10265' in col or '10353' in col:\n",
    "                new_col=col.split(\"BAMs/\")[1]\n",
    "            else:\n",
    "                new_col=col.split(\"BAM_FILES/\")[1]\n",
    "            new_col=new_col.split(\"Aligned\")[0]\n",
    "            # keep only columns corresponding to patients with immunotherapy response\n",
    "            if str(new_col) in patients_list:\n",
    "                # rename the column only with the patient id\n",
    "                tableofcounts.rename(columns={col:str(new_col)}, inplace=True)\n",
    "            # if the patient is not in the dictionary, it means we do not have information about the response\n",
    "            else:\n",
    "                tableofcounts.drop(col, axis=1, inplace=True)\n",
    "    elif proj == \"UC-GENOME\":\n",
    "        for col in filter_col:\n",
    "            # get only patient code\n",
    "            new_col=col.split(\"BAM_files/\")[1]\n",
    "            new_col=new_col.split(\"/Aligned\")[0]\n",
    "            # rename the column only with the patient id\n",
    "            if new_col in to_change_names_UCG_dict.keys():\n",
    "                tableofcounts.rename(columns={col:to_change_names_UCG_dict[new_col]}, inplace=True)\n",
    "            # if the patient is not in the dictionary, it means we do not have information about the response\n",
    "            else:\n",
    "                tableofcounts.drop(col, axis=1, inplace=True)\n",
    "    elif proj == \"SNY-2017\":\n",
    "        for col in filter_col:\n",
    "            # get only patient code\n",
    "            new_col = col.split(\"BAM_files/\")[1]\n",
    "            new_col = new_col.split(\".bam\")[0]\n",
    "            new_col = str(new_col)\n",
    "            # rename the column only with the patient id\n",
    "            if new_col in to_change_names_SNY_dict.keys():\n",
    "                tableofcounts.rename(columns={col:to_change_names_SNY_dict[str(new_col)]}, inplace=True)\n",
    "            # if the patient is not in the dictionary, it means we do not have information about the response\n",
    "            else:\n",
    "                tableofcounts.drop(col, axis=1, inplace=True)\n",
    "    tableofcounts.to_csv(os.path.join(DIR,proj,\"analysis/01_counts/counts_genename_clean.txt\"), sep=\"\\t\", index=False)\n",
    "    print(len(tableofcounts.columns)-6)\n",
    "    # get TPMs\n",
    "    length = tableofcounts['Length']\n",
    "    genes = tableofcounts['gene_name']\n",
    "    info = tableofcounts[[\"gene_name\",\"Chr\",\"Start\",\"End\",\"Strand\",\"Length\"]]\n",
    "    # we are only interested in the columns with counts\n",
    "    counts = tableofcounts\n",
    "    counts.drop([\"Chr\",\"Start\",\"End\",\"Strand\",\"Length\",\"gene_name\"],axis=1, inplace=True)\n",
    "    # calculate TPMs\n",
    "    tpm_df = Norm.tpm(counts, length)\n",
    "    columnames = tpm_df.columns.tolist()\n",
    "    try:\n",
    "        columnames_clean = [item.split(\"_\")[0] for item in columnames]\n",
    "        tpm_df.columns = columnames_clean\n",
    "    except:\n",
    "        continue\n",
    "    # add gene_names again\n",
    "    tpms = pd.concat([genes,tpm_df], axis=1)\n",
    "    tpms.to_csv(os.path.join(DIR,proj,\"analysis/01_counts/TPMs_genenames.csv\"), index=False)\n",
    "\n",
    "    # add all info apart from gene_names\n",
    "    tpms_w_info = pd.concat([info,tpm_df], axis=1)\n",
    "    tpms_w_info.to_csv(os.path.join(DIR,proj,\"analysis/01_counts/TPMs_genenames_whole_information.csv\"), index=False)\n",
    "    print(len(tpms_w_info.columns))\n"
   ]
  },
  {
   "cell_type": "code",
   "execution_count": 72,
   "metadata": {},
   "outputs": [],
   "source": [
    "#UNC-108\n",
    "tableofcounts = pd.read_csv(\"/datasets/sergio/UNC-108/3_Normalized_Counts/GSE176307_BACI_tpm_gene.matrix.tsv\", sep=\"\\t\", comment='#')\n",
    "tableofcounts.rename(columns={ tableofcounts.columns[0]: \"gene_name\" }, inplace = True)\n",
    "\n",
    "patients = pd.read_csv(projects_patients['UNC-108'])\n",
    "# get the ones we have immunotherapy response data and RNA-Seq \n",
    "tableofcounts_patients = tableofcounts.columns\n",
    "colnames = intersection(patients.patient.values.tolist(), tableofcounts_patients)\n",
    "colnames.insert(0, 'gene_name')\n",
    "\n",
    "tableofcounts[colnames].to_csv(os.path.join(\"/users/genomics/marta/BLCA/UNC-108/analysis/01_counts/TPMs_genenames.csv\"), index=False)\n"
   ]
  },
  {
   "cell_type": "markdown",
   "metadata": {},
   "source": [
    "### Z-score normalization of gene expression"
   ]
  },
  {
   "cell_type": "code",
   "execution_count": 26,
   "metadata": {},
   "outputs": [],
   "source": [
    "def z_score(X, y=None):\n",
    "    \"\"\"\n",
    "    Performs z-score normalization\n",
    "    :param X: dataframe\n",
    "    :param y: target variable, none as default\n",
    "    :return: Returns the dataframe scaled using z-score normalization\n",
    "    \"\"\"\n",
    "    scaler = StandardScaler()\n",
    "\n",
    "    columns = X.columns\n",
    "    index = X.index\n",
    "    X = pd.DataFrame(scaler.fit_transform(X, y))\n",
    "    X.columns = columns\n",
    "    X.index = index\n",
    "\n",
    "    return X"
   ]
  },
  {
   "cell_type": "code",
   "execution_count": 27,
   "metadata": {},
   "outputs": [
    {
     "name": "stdout",
     "output_type": "stream",
     "text": [
      "HdM-BLCA-1\n",
      "SNY-2017\n",
      "IMvigor210\n",
      "UC-GENOME\n",
      "UNC-108\n"
     ]
    }
   ],
   "source": [
    "for proj in projects:\n",
    "    print(proj)\n",
    "    # import TPMs\n",
    "    TPM = pd.read_csv(os.path.join(DIR,proj,\"analysis/01_counts/TPMs_genenames.csv\"))\n",
    "    TPM_genes = TPM[['gene_name']]\n",
    "\n",
    "    # get only values, without gene_name column\n",
    "    TPM.drop(['gene_name'], axis=1, inplace=True)\n",
    "    \n",
    "    # compute z-scores from transposed matrix because the normalization is done by column\n",
    "    zscore = z_score(TPM.T)\n",
    "    zscore.columns = TPM_genes.gene_name.values.tolist()\n",
    "    \n",
    "    zscore.to_csv(os.path.join(DIR,proj,\"analysis/01_counts/zscores_genenames.csv\"))\n",
    "    \n",
    "    # make column with patients and move it to the first one\n",
    "    transposed_zscore = zscore.T\n",
    "    transposed_zscore['gene_name'] = transposed_zscore.index\n",
    "    transposed_zscore.to_csv(os.path.join(DIR,proj,\"analysis/01_counts/zscores_geneasrows_patientsascols.csv\"), index=None)\n"
   ]
  }
 ],
 "metadata": {
  "kernelspec": {
   "display_name": "Python 3 (ipykernel)",
   "language": "python",
   "name": "python3"
  },
  "language_info": {
   "codemirror_mode": {
    "name": "ipython",
    "version": 3
   },
   "file_extension": ".py",
   "mimetype": "text/x-python",
   "name": "python",
   "nbconvert_exporter": "python",
   "pygments_lexer": "ipython3",
   "version": "3.8.5"
  }
 },
 "nbformat": 4,
 "nbformat_minor": 1
}
