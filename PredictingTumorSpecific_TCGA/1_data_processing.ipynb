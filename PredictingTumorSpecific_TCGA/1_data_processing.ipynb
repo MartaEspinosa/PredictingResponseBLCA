{
 "cells": [
  {
   "cell_type": "markdown",
   "metadata": {},
   "source": [
    "# IDENTIFICATION OF NOVEL CLASSES OF NEOANTIGENS IN CANCER | Data processing"
   ]
  },
  {
   "cell_type": "code",
   "execution_count": null,
   "metadata": {},
   "outputs": [],
   "source": [
    "import os\n",
    "import pandas as pd"
   ]
  },
  {
   "cell_type": "code",
   "execution_count": null,
   "metadata": {},
   "outputs": [],
   "source": [
    "GENERAL=\"/users/genomics/marta\" # same as previous step\n",
    "projects=[\"BLCA\"] # more project can be added here\n",
    "bash_projects = \" \".join(projects)\n",
    "\n",
    "GENOMEDIR=\"/genomics/users/marta/genomes\"\n",
    "\n",
    "TCGA_DATA=\"/datasets/marta/TCGA/BLCA\"\n"
   ]
  },
  {
   "cell_type": "markdown",
   "metadata": {},
   "source": [
    "## FastQScreen"
   ]
  },
  {
   "cell_type": "code",
   "execution_count": null,
   "metadata": {},
   "outputs": [],
   "source": [
    "%%bash -s \"$bash_projects\" \"$TCGA_DATA\" \"$GENERAL\" \"$GENOMEDIR\"\n",
    "\n",
    "module load FastQ-Screen/0.14.1\n",
    "module load Bowtie2/2.4.2-GCC-10.2.0             # Required for Fastqscreen\n",
    "module load Miniconda3/4.9.2\n",
    "\n",
    "mkdir $3/analysis/02_fastqscreen\n",
    "\n",
    "config=$4/Index_Genomes_Bowtie2/fastq_screen.conf\n",
    "\n",
    "for proj in $1; do\n",
    "    echo $proj\n",
    "    for file in $2/fastq_files/*r1*gz; do\n",
    "        echo ${file##*/}\n",
    "        fastq_screen --conf $config --outdir $3/$proj/analysis/02_fastqscreen $file\n",
    "    done\n",
    "\n",
    "    cd $3/$proj/analysis/02_fastqscreen\n",
    "    multiqc .\n",
    "done\n",
    "\n"
   ]
  },
  {
   "cell_type": "markdown",
   "metadata": {},
   "source": [
    "## FastQC"
   ]
  },
  {
   "cell_type": "code",
   "execution_count": null,
   "metadata": {},
   "outputs": [],
   "source": [
    "%%bash -s \"$bash_projects\" \"$TCGA_DATA\" \"$GENERAL\"\n",
    "\n",
    "\n",
    "module load Miniconda3/4.9.2\n",
    "module load FastQC/0.11.7-Java-1.8.0_162\n",
    "\n",
    "for proj in $1; do\n",
    "    mkdir $3/$proj/analysis/03_fastqc\n",
    "\n",
    "    for file in $2/fastq_files/*r1*gz; do\n",
    "        echo ${file##*/}\n",
    "        fastqc -O $3/$proj/analysis/03_fastqc $file\n",
    "    done\n",
    "    cd $3/$proj/analysis/03_fastqc\n",
    "    multiqc .\n",
    "\n",
    "done\n",
    "\n",
    "\n"
   ]
  },
  {
   "cell_type": "markdown",
   "metadata": {},
   "source": [
    "## Remove adapters if necessary"
   ]
  },
  {
   "cell_type": "code",
   "execution_count": null,
   "metadata": {},
   "outputs": [],
   "source": []
  },
  {
   "cell_type": "markdown",
   "metadata": {},
   "source": [
    "## Alignment on *H.sapiens* Genome v.38\n",
    "\n",
    "To do the alignment, STAR program is used with 2pass option and keeping only uniquely mapped reads.\n",
    "\n",
    "First the index(es) must be generated"
   ]
  },
  {
   "cell_type": "code",
   "execution_count": null,
   "metadata": {},
   "outputs": [],
   "source": [
    "# %%bash -s \"$GENOMEDIR\"\n",
    "#\n",
    "# mkdir -p $1/Index_Genomes_STAR\n",
    "# mkdir $1/Index_Genomes_STAR/Idx_Gencode_v38_hg38_readlength75"
   ]
  },
  {
   "cell_type": "code",
   "execution_count": null,
   "metadata": {},
   "outputs": [],
   "source": [
    "# %%bash -s \"$GENERAL\" \"$GENOMEDIR\"\n",
    "#\n",
    "# ######################################DONE IN CLUSTER###############################################\n",
    "#\n",
    "# sbatch scripts/1_processing/index_STAR.sh $1 $2"
   ]
  },
  {
   "cell_type": "markdown",
   "metadata": {},
   "source": [
    "Now indexes are stored in `/users/genomics/sergiov/annotations_and_indexes/index_50`"
   ]
  },
  {
   "cell_type": "code",
   "execution_count": null,
   "metadata": {},
   "outputs": [],
   "source": [
    "%%bash -s \"$GENERAL\" \"$CLUSTERDIR\" \"$GENOMEDIR\"\n",
    "\n",
    "######################################DONE IN CLUSTER###############################################\n",
    "\n",
    "sbatch scripts/1_processing/STAR_TCGA.sh $1 $2"
   ]
  },
  {
   "cell_type": "markdown",
   "metadata": {},
   "source": [
    "Make summary file with uniquely mapped reads and the percentage they represent from the whole alignment"
   ]
  },
  {
   "cell_type": "code",
   "execution_count": null,
   "metadata": {},
   "outputs": [],
   "source": [
    "%%bash -s \"$GENERAL\" \"$bash_projects\"\n",
    "\n",
    "for proj in $2; do\n",
    "    OUT=$1/$proj/results/uniquely_mapped_reads_v41.csv\n",
    "    if [ -f \"$OUT\" ] ; then\n",
    "        rm \"$OUT\"\n",
    "    fi\n",
    "    echo -e \"Sample,Input_reads,Uniquely_mapped_reads,%alignment\" >> $OUT\n",
    "\n",
    "    for file in $1/$proj/analysis/05_STAR/uniquely_mapped_2pass_BAM_files/*Log.final.out; do\n",
    "        name=${file%%Log*}\n",
    "        name=${name##*BAM_files/}\n",
    "        echo -e $name\",\"$(sed '6q;d' $file | awk '{print $6}')\",\"$(sed '9q;d' $file | awk '{print $6}')\",\"$(sed '10q;d' $file | awk '{print $6}') >> $OUT\n",
    "    done\n",
    "done"
   ]
  },
  {
   "cell_type": "markdown",
   "metadata": {},
   "source": [
    "## RSeQC\n",
    "\n",
    "Are the reads oriented? If so, which orientation?\n"
   ]
  },
  {
   "cell_type": "code",
   "execution_count": null,
   "metadata": {},
   "outputs": [],
   "source": [
    "%%bash -s \"$GENERAL\" \"$bash_projects\" \"$GENOMEDIR\"\n",
    "\n",
    "module load Miniconda3/4.9.2\n",
    "\n",
    "for proj in $2; do\n",
    "\n",
    "    RSEQC=$1/$proj/analysis/05.2_RSeQC\n",
    "    mkdir -p $RSEQC\n",
    "\n",
    "    cat $1/$proj/results/uniquely_mapped_reads.csv | tail -n +2 | while IFS=, read sample input uniq percent; do\n",
    "\n",
    "        echo $sample\n",
    "        infer_experiment.py -r $3/Annot_files_GTF/gencode.v38.primary_assembly.annotation_gene.bed -i $1/$proj/analysis/05_STAR/uniquely_mapped_2pass_BAM_files/${sample}Aligned.sortedByCoord.out.bam -s $uniq > $RSEQC/${sample}.out\n",
    "\n",
    "    done #< $1/$2/results/uniquely_mapped_reads_norRNA.txt\n",
    "done"
   ]
  },
  {
   "cell_type": "code",
   "execution_count": null,
   "outputs": [],
   "source": [
    "%%bash -s \"$GENERAL\" \"$bash_projects\"\n",
    "\n",
    "# output for stringtie\n",
    "\n",
    "for proj in $2; do\n",
    "\n",
    "\n",
    "    if [[ -f $1/$proj/analysis/05.2_RSeQC/summary_stringtie.csv ]]; then\n",
    "        rm $1/$proj/analysis/05.2_RSeQC/summary_stringtie.csv\n",
    "    fi\n",
    "\n",
    "    for file in $1/$proj/analysis/05.2_RSeQC/*out; do\n",
    "        sample=${file##*/}\n",
    "        sample=${sample%%.out*}\n",
    "        echo -e $sample\"\\t\"$(python ~/Documents/scripts/Chris_decide_strandness_parameter.py -tab $file -tool stringtie) >> $1/$2/analysis/05.2_RSeQC/summary_stringtie.csv\n",
    "    done\n",
    "done"
   ],
   "metadata": {
    "collapsed": false
   }
  },
  {
   "cell_type": "code",
   "execution_count": null,
   "outputs": [],
   "source": [
    "%%bash -s \"$GENERAL\" \"$bash_projects\"\n",
    "\n",
    "# output for featureCounts\n",
    "\n",
    "for proj in $2; do\n",
    "\n",
    "    if [[ -f $1/$proj/analysis/05.2_RSeQC/summary_featureCounts.csv ]]; then\n",
    "        rm $1/$proj/analysis/05.2_RSeQC/summary_featureCounts.csv\n",
    "    fi\n",
    "\n",
    "    for file in $1/$proj/analysis/05.2_RSeQC/*out; do\n",
    "        sample=${file##*/}\n",
    "        sample=${sample%%.out*}\n",
    "        echo -e $sample\"\\t\"$(python ~/Documents/scripts/Chris_decide_strandness_parameter.py -tab $file -tool featureCounts) >> $1/$2/analysis/05.2_RSeQC/summary_featureCounts.csv\n",
    "    done\n",
    "done"
   ],
   "metadata": {
    "collapsed": false
   }
  }
 ],
 "metadata": {
  "kernelspec": {
   "display_name": "Python 3 (ipykernel)",
   "language": "python",
   "name": "python3"
  },
  "language_info": {
   "codemirror_mode": {
    "name": "ipython",
    "version": 3
   },
   "file_extension": ".py",
   "mimetype": "text/x-python",
   "name": "python",
   "nbconvert_exporter": "python",
   "pygments_lexer": "ipython3",
   "version": "3.8.5"
  }
 },
 "nbformat": 4,
 "nbformat_minor": 1
}
