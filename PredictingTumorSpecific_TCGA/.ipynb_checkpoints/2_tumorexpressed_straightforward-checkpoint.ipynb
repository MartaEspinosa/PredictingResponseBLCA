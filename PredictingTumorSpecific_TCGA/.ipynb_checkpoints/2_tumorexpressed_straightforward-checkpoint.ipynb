{
 "cells": [
  {
   "cell_type": "markdown",
   "metadata": {},
   "source": [
    "# IDENTIFICATION OF NOVEL CLASSES OF NEOANTIGENS IN CANCER | Tumor expressed\n"
   ]
  },
  {
   "cell_type": "code",
   "execution_count": 1,
   "metadata": {
    "ExecuteTime": {
     "end_time": "2023-10-16T12:14:42.656692362Z",
     "start_time": "2023-10-16T12:14:42.344490246Z"
    }
   },
   "outputs": [],
   "source": [
    "import os, glob, re, gtfparse\n",
    "import pandas as pd\n",
    "import numpy as np\n",
    "from Bio import SeqIO\n",
    "from functools import reduce\n"
   ]
  },
  {
   "cell_type": "code",
   "execution_count": 2,
   "metadata": {
    "ExecuteTime": {
     "end_time": "2023-10-16T12:14:42.657841606Z",
     "start_time": "2023-10-16T12:14:42.655061556Z"
    }
   },
   "outputs": [],
   "source": [
    "GENERAL=\"/users/genomics/marta\" # same as previous step\n",
    "projects=[\"BLCA\"] # more project can be added here\n",
    "bash_projects = \" \".join(projects)\n",
    "\n",
    "GENOMEDIR=\"/genomics/users/marta/genomes\"\n",
    "GENOMEFASTA=GENOMEDIR+\"/GRCh38/GRCh38.primary_assembly.genome.fa\""
   ]
  },
  {
   "cell_type": "code",
   "execution_count": 3,
   "metadata": {
    "ExecuteTime": {
     "end_time": "2023-10-16T12:14:42.727361177Z",
     "start_time": "2023-10-16T12:14:42.659903604Z"
    }
   },
   "outputs": [],
   "source": [
    "transcript_gene=pd.read_csv(os.path.join(GENOMEDIR,\"transcript_gene_v41.txt\"), skiprows=1, names=['gene_id','gene_name', 'gene_type'])"
   ]
  },
  {
   "cell_type": "markdown",
   "metadata": {},
   "source": [
    "## Quantification with featureCounts"
   ]
  },
  {
   "cell_type": "code",
   "execution_count": null,
   "metadata": {},
   "outputs": [],
   "source": [
    "%%bash -s \"$bash_projects\" \"$GENERAL\"\n",
    "\n",
    "#############################################\n",
    "######comment or uncomment the necessary#####\n",
    "\n",
    "paired_single=\"paired-end\"\n",
    "# paired_single=\"single-end\"\n",
    "\n",
    "# strand=firststrand\n",
    "# strand=secondstrand\n",
    "strand=unstranded\n",
    "#############################################\n",
    "\n",
    "for proj in $1; do\n",
    "    sbatch scripts/2_tumorexpressed/featureCounts_decision_straightforward.sh $proj $GENERAL $paired_single $strand\n",
    "done"
   ]
  },
  {
   "cell_type": "code",
   "execution_count": 4,
   "metadata": {},
   "outputs": [],
   "source": [
    "### modify headers\n",
    "for proj in projects:\n",
    "    df=pd.read_csv(os.path.join(GENERAL,proj,\"analysis/07_quantification/straightforward/CountsTable_genename.txt\"), skiprows=1, sep=\"\\t\")\n",
    "    df['Geneid']=df['Geneid'].str.split('.').str[0]\n",
    "    filter_col = [col for col in df if col.startswith('/')]\n",
    "    for col in filter_col:\n",
    "        new_col=col.split(\"BAM_files/\")[1]\n",
    "        new_col=new_col.split(\"Aligned\")[0]\n",
    "        df.rename(columns={col:new_col}, inplace=True)\n",
    "    df.rename(columns={'Geneid':'gene_name'}, inplace=True)\n",
    "    df.to_csv(os.path.join(GENERAL,proj,\"analysis/07_quantification/straightforward/CountsTable_genename.header.txt\"),sep=\"\\t\", index=False)\n",
    "    "
   ]
  },
  {
   "cell_type": "markdown",
   "metadata": {},
   "source": [
    "Convert counts to TPM"
   ]
  },
  {
   "cell_type": "code",
   "execution_count": 6,
   "metadata": {
    "ExecuteTime": {
     "end_time": "2023-10-16T12:15:15.607667190Z",
     "start_time": "2023-10-16T12:15:15.570491061Z"
    }
   },
   "outputs": [
    {
     "ename": "ModuleNotFoundError",
     "evalue": "No module named 'sklearn'",
     "output_type": "error",
     "traceback": [
      "\u001b[0;31m---------------------------------------------------------------------------\u001b[0m",
      "\u001b[0;31mModuleNotFoundError\u001b[0m                       Traceback (most recent call last)",
      "Cell \u001b[0;32mIn[6], line 2\u001b[0m\n\u001b[1;32m      1\u001b[0m \u001b[38;5;28;01mfrom\u001b[39;00m \u001b[38;5;21;01mrna_seq_normalization\u001b[39;00m \u001b[38;5;28;01mimport\u001b[39;00m Normalization \u001b[38;5;28;01mas\u001b[39;00m Norm\n\u001b[0;32m----> 2\u001b[0m \u001b[38;5;28;01mfrom\u001b[39;00m \u001b[38;5;21;01msklearn\u001b[39;00m\u001b[38;5;21;01m.\u001b[39;00m\u001b[38;5;21;01mpreprocessing\u001b[39;00m \u001b[38;5;28;01mimport\u001b[39;00m StandardScaler\n",
      "\u001b[0;31mModuleNotFoundError\u001b[0m: No module named 'sklearn'"
     ]
    }
   ],
   "source": [
    "from rna_seq_normalization import Normalization as Norm\n",
    "from sklearn.preprocessing import StandardScaler"
   ]
  },
  {
   "cell_type": "code",
   "execution_count": 9,
   "metadata": {},
   "outputs": [
    {
     "name": "stdout",
     "output_type": "stream",
     "text": [
      "42\n"
     ]
    }
   ],
   "source": [
    "# get TPMs\n",
    "for proj in projects:\n",
    "    tableofcounts = pd.read_csv(os.path.join(GENERAL,proj,\"analysis/07_quantification/straightforward/CountsTable_genename.header.txt\"),sep=\"\\t\")\n",
    "    length = tableofcounts['Length']\n",
    "    genes = tableofcounts['gene_name']\n",
    "\n",
    "    info = tableofcounts[[\"gene_name\",\"Chr\",\"Start\",\"End\",\"Strand\",\"Length\"]]\n",
    "    # we are only interested in the columns with counts\n",
    "    counts = tableofcounts\n",
    "    counts.drop([\"gene_name\",\"Chr\",\"Start\",\"End\",\"Strand\",\"Length\"],axis=1, inplace=True)\n",
    "    # calculate TPMs\n",
    "    tpm_df = Norm.tpm(counts, length)\n",
    "    columnames = tpm_df.columns.tolist()\n",
    "\n",
    "    tpms = pd.concat([genes,tpm_df], axis=1)\n",
    "    tpms.to_csv(os.path.join(GENERAL,proj,\"analysis/07_quantification/straightforward/TPMs_genenames.csv\"), index=False)\n",
    "\n",
    "    # add all info apart from gene_names\\n\",\n",
    "    tpms_w_info = pd.concat([info,tpm_df], axis=1)\n",
    "    tpms_w_info.to_csv(os.path.join(GENERAL,proj,\"analysis/07_quantification/straightforward/TPMs_genenames_whole_information.csv\"), index=False)\n",
    "    print(len(tpms_w_info.columns))\n",
    "\n"
   ]
  },
  {
   "cell_type": "markdown",
   "metadata": {},
   "source": [
    "## Tumor-expressed"
   ]
  },
  {
   "cell_type": "code",
   "execution_count": 12,
   "metadata": {},
   "outputs": [
    {
     "name": "stdout",
     "output_type": "stream",
     "text": [
      "lncRNA:  9614\n",
      "PROTEIN CODING:  17026\n"
     ]
    }
   ],
   "source": [
    "for proj in projects:\n",
    "    fc = pd.read_csv(os.path.join(GENERAL,proj,\"analysis/07_quantification/straightforward/TPMs_genenames.csv\"))\n",
    "    tumor_transcripts = list()\n",
    "    patients = pd.read_csv(os.path.join(GENERAL,proj,\"results/paired_patients.csv\"))\n",
    "\n",
    "    for index,patient in patients.iterrows():\n",
    "        patient_fc = fc[[\"gene_name\",patient.iloc[2]]]\n",
    "\n",
    "        tumor_patient_fc = patient_fc[patient_fc[patient.iloc[2]] >= 1 ]\n",
    "        tumor_transcripts.extend(tumor_patient_fc.gene_name.values.tolist())\n",
    "\n",
    "    tumor = fc[fc['gene_name'].isin(tumor_transcripts)]\n",
    "\n",
    "    lncRNA_pseudo = ['lncRNA','processed_pseudogene']\n",
    "\n",
    "    tumor_merged = tumor.merge(transcript_gene, on=['gene_name'], how=\"inner\")\n",
    "\n",
    "    lncRNA = tumor_merged[tumor_merged['gene_type'].isin(lncRNA_pseudo)]\n",
    "    print(\"lncRNA: \",len(lncRNA))\n",
    "\n",
    "    cds = tumor_merged[tumor_merged['gene_type'] == \"protein_coding\"]\n",
    "    print(\"PROTEIN CODING: \",len(cds))\n",
    "\n",
    "    tumor1FPKM = pd.concat([lncRNA, cds], ignore_index = True)\n",
    "    tumor1FPKM.to_csv(os.path.join(GENERAL,proj,\"analysis/07_quantification/straightforward/tumor_1TPM_table_of_counts.csv\"),index=False)\n",
    "    tumor1FPKM[['gene_id','gene_name','gene_type']].to_csv(os.path.join(GENERAL,proj,\"analysis/07_quantification/straightforward/tumor_1TPM.csv\"), index=False)\n",
    "\n",
    "    tumor1FPKM"
   ]
  },
  {
   "cell_type": "code",
   "execution_count": 13,
   "metadata": {},
   "outputs": [
    {
     "name": "stdout",
     "output_type": "stream",
     "text": [
      "BLCA\n"
     ]
    }
   ],
   "source": [
    "for proj in projects:\n",
    "    print(proj)\n",
    "    fc = pd.read_csv(os.path.join(GENERAL,proj,\"analysis/07_quantification/straightforward/tumor_1TPM_table_of_counts.csv\"))\n",
    "\n",
    "    patients=pd.read_csv(os.path.join(GENERAL,proj,\"results/paired_patients.csv\"))\n",
    "\n",
    "    for index,patient in patients.iterrows():\n",
    "        patient_fc = fc[[\"gene_name\",patient.iloc[2]]]\n",
    "        patient_fc = patient_fc[patient_fc[patient.iloc[2]] >= 1]\n",
    "        filename=str(patient.iloc[0])+\"_tumor1TPM.csv\"\n",
    "        try:\n",
    "            os.makedirs(os.path.join(GENERAL,proj,\"analysis/07_quantification/straightforward\",str(patient.iloc[0])))\n",
    "        except:\n",
    "            print(\"Folder exists\")\n",
    "        patient_fc.to_csv(os.path.join(GENERAL,proj,\"analysis/07_quantification/straightforward\",str(patient.iloc[0]),filename),index=False)\n"
   ]
  },
  {
   "cell_type": "code",
   "execution_count": 15,
   "metadata": {},
   "outputs": [],
   "source": [
    "for proj in projects:\n",
    "    expressed = pd.read_csv(os.path.join(GENERAL,proj,\"analysis/07_quantification/straightforward/tumor_1TPM.csv\"))\n",
    "    patients_dir = [ f.path for f in os.scandir(os.path.join(GENERAL,proj,\"analysis/07_quantification/straightforward\")) if f.is_dir() ]\n",
    "\n",
    "    #### outfile for the common list\n",
    "\n",
    "    outfile=os.path.join(GENERAL,proj,\"analysis/07_quantification/straightforward/tumor_1TPM_n.csv\")\n",
    "    gene_df = pd.DataFrame(columns=['gene_name'])\n",
    "\n",
    "    for p in patients_dir:\n",
    "        p = str(p.split(\"/\")[-1])\n",
    "        try:\n",
    "            csv = pd.read_csv(os.path.join(GENERAL,proj,\"analysis/07_quantification/straightforward\",p)+\"/\"+p+\"_tumor1TPM.csv\")\n",
    "            gene_list = list()\n",
    "\n",
    "            little_csv = csv[['gene_name']]\n",
    "            gene_df = pd.concat([gene_df, little_csv], axis=0)\n",
    "        except:\n",
    "            continue\n",
    "\n",
    "    #### count how many patients have each transcript\n",
    "    gene_df = gene_df.merge(expressed, on=['gene_name'], how=\"inner\")\n",
    "    gene_df.drop_duplicates(inplace=True)\n",
    "    gene_df['n'] = gene_df.groupby('gene_name')['gene_name'].transform('count')\n",
    "    gene_df.drop_duplicates(inplace=True)\n",
    "    gene_df.sort_values(by=['n'], ascending=False).to_csv(outfile, index=None)\n",
    "\n"
   ]
  },
  {
   "cell_type": "markdown",
   "metadata": {},
   "source": [
    "Get 90% shared"
   ]
  },
  {
   "cell_type": "code",
   "execution_count": 19,
   "metadata": {},
   "outputs": [
    {
     "name": "stderr",
     "output_type": "stream",
     "text": [
      "/tmp/ipykernel_3840331/114884097.py:10: SettingWithCopyWarning: \n",
      "A value is trying to be set on a copy of a slice from a DataFrame.\n",
      "Try using .loc[row_indexer,col_indexer] = value instead\n",
      "\n",
      "See the caveats in the documentation: https://pandas.pydata.org/pandas-docs/stable/user_guide/indexing.html#returning-a-view-versus-a-copy\n",
      "  top['project'] = proj\n"
     ]
    }
   ],
   "source": [
    "all_dfs = pd.DataFrame(columns=['gene_id','gene_name','gene_type','Length','n','project'])\n",
    "\n",
    "proj = \"BLCA\"\n",
    "df = pd.read_csv(os.path.join(GENERAL,proj,\"analysis/07_quantification/straightforward/tumor_1TPM_n.csv\"))\n",
    "df=df.replace('processed_pseudogene','lncRNA')\n",
    "df=df.replace('protein_coding','Protein Coding')\n",
    "\n",
    "top = df[df.n >= 2]\n",
    "top.to_csv(os.path.join(GENERAL,proj,\"analysis/07_quantification/straightforward/90shared_1TPM.csv\"), index=None)\n",
    "top['project'] = proj\n",
    "\n",
    "all_dfs = pd.concat([top, all_dfs], axis=0)"
   ]
  },
  {
   "cell_type": "markdown",
   "metadata": {},
   "source": [
    "Get GTFs 90% shared"
   ]
  },
  {
   "cell_type": "code",
   "execution_count": 21,
   "metadata": {},
   "outputs": [
    {
     "name": "stdout",
     "output_type": "stream",
     "text": [
      "BLCA\n"
     ]
    },
    {
     "name": "stderr",
     "output_type": "stream",
     "text": [
      "/tmp/ipykernel_3840331/1764207488.py:14: SettingWithCopyWarning: \n",
      "A value is trying to be set on a copy of a slice from a DataFrame\n",
      "\n",
      "See the caveats in the documentation: https://pandas.pydata.org/pandas-docs/stable/user_guide/indexing.html#returning-a-view-versus-a-copy\n",
      "  full_90.drop('gene_id', axis=1, inplace=True)\n",
      "/soft/system/software/Miniconda3/4.9.2/lib/python3.8/site-packages/pandas/core/frame.py:6257: FutureWarning: In a future version, the Index constructor will not infer numeric dtypes when passed object-dtype sequences (matching Series behavior)\n",
      "  diff = Index(subset).difference(self.columns)\n",
      "/tmp/ipykernel_3840331/1764207488.py:15: SettingWithCopyWarning: \n",
      "A value is trying to be set on a copy of a slice from a DataFrame\n",
      "\n",
      "See the caveats in the documentation: https://pandas.pydata.org/pandas-docs/stable/user_guide/indexing.html#returning-a-view-versus-a-copy\n",
      "  full_90.drop_duplicates(inplace=True)\n"
     ]
    }
   ],
   "source": [
    "for proj in projects:\n",
    "    print(proj)\n",
    "    ref = pd.read_csv(\"/users/genomics/sergiov/annotations_and_indexes/gencode.v41.primary_assembly.annotation.gtf\", sep=\"\\t\", header=None, comment=\"#\")\n",
    "    ref['gene_id']=ref[8].str.split('gene_id \"', expand=True)[1]\n",
    "    ref['gene_id']=ref['gene_id'].str.split('\"', expand=True)[0]\n",
    "    ref['gene_id']=ref['gene_id'].str.split('.', expand=True)[0]\n",
    "\n",
    "    full_90 = pd.DataFrame(columns = [0])\n",
    "    #### novel\n",
    "    CSV_REF=pd.read_csv(os.path.join(GENERAL,proj,\"analysis/07_quantification/straightforward/90shared_1TPM.csv\"))\n",
    "\n",
    "    genes = CSV_REF.gene_id.values.tolist()\n",
    "    full_90 = ref[ref['gene_id'].isin(genes)]\n",
    "    full_90.drop('gene_id', axis=1, inplace=True)\n",
    "    full_90.drop_duplicates(inplace=True)\n",
    "\n",
    "    full_90.to_csv(os.path.join(GENERAL,proj,\"analysis/07_quantification/straightforward/90shared.gtf\"), sep=\"\\t\", header=None, index=None, quoting = 3)\n",
    "\n"
   ]
  },
  {
   "cell_type": "markdown",
   "metadata": {},
   "source": [
    "Convert to fasta"
   ]
  },
  {
   "cell_type": "code",
   "execution_count": 23,
   "metadata": {},
   "outputs": [
    {
     "name": "stdout",
     "output_type": "stream",
     "text": [
      "BLCA\n"
     ]
    }
   ],
   "source": [
    "%%bash -s \"$GENERAL\" \"$bash_projects\" \"$GENOMEFASTA\"\n",
    "\n",
    "export PATH=/genomics/users/marta/tools/gffread-0.12.7.Linux_x86_64/:$PATH\n",
    "\n",
    "for proj in $2; do\n",
    "    echo $proj\n",
    "\n",
    "    file=$1/$proj/analysis/07_quantification/straightforward/90shared.gtf\n",
    "\n",
    "    #get fasta\n",
    "    gffread --attrs gene_name,transcript_type,transcript_name -w ${file%%.*}.fa -g $3 $file\n",
    "\n",
    "    #replace spaces by ;\n",
    "    sed -i 's/\\ /;/g' ${file%%.*}.fa\n",
    "done"
   ]
  },
  {
   "cell_type": "markdown",
   "metadata": {},
   "source": [
    "## Normal expressed"
   ]
  },
  {
   "cell_type": "code",
   "execution_count": 27,
   "metadata": {},
   "outputs": [
    {
     "name": "stdout",
     "output_type": "stream",
     "text": [
      "lncRNA:  7363\n",
      "PROTEIN CODING:  16041\n"
     ]
    }
   ],
   "source": [
    "for proj in projects:\n",
    "    fc = pd.read_csv(os.path.join(GENERAL,proj,\"analysis/07_quantification/straightforward/TPMs_genenames.csv\"))\n",
    "    tumor_genes = list()\n",
    "\n",
    "    patients=pd.read_csv(os.path.join(GENERAL,proj,\"results/paired_patients.csv\"),)\n",
    "\n",
    "    for index,patient in patients.iterrows():\n",
    "        patient_fc = fc[[\"gene_name\",patient.iloc[1]]]\n",
    "\n",
    "        tumor_patient_fc = patient_fc[patient_fc[patient.iloc[1]] >= 1 ]\n",
    "        tumor_genes.extend(tumor_patient_fc.gene_name.values.tolist())\n",
    "\n",
    "    tumor = fc[fc['gene_name'].isin(tumor_genes)]\n",
    "\n",
    "    transcript_gene = pd.read_csv(os.path.join(GENOMEDIR,\"transcript_gene_v41.txt\"))\n",
    "    transcript_gene.columns = ['gene_id', 'gene_name', 'gene_type']\n",
    "    lncRNA_pseudo = ['lncRNA','processed_pseudogene']\n",
    "\n",
    "    tumor_merged = tumor.merge(transcript_gene, on=['gene_name'], how=\"inner\")\n",
    "\n",
    "    lncRNA = tumor_merged[tumor_merged['gene_type'].isin(lncRNA_pseudo)]\n",
    "    print(\"lncRNA: \",len(lncRNA))\n",
    "\n",
    "    cds = tumor_merged[tumor_merged['gene_type'] == \"protein_coding\"]\n",
    "    print(\"PROTEIN CODING: \",len(cds))\n",
    "\n",
    "\n",
    "    tumor1FPKM = pd.concat([lncRNA, cds], ignore_index = True)\n",
    "    tumor1FPKM.to_csv(os.path.join(GENERAL,proj,\"analysis/07_quantification/straightforward/normal_1TPM_table_of_counts.csv\"),index=False)\n",
    "    tumor1FPKM[['gene_id','gene_name','gene_type']].to_csv(os.path.join(GENERAL,proj,\"analysis/07_quantification/straightforward/normal_1TPM.csv\"), index=False)\n",
    "\n",
    "    tumor1FPKM"
   ]
  }
 ],
 "metadata": {
  "kernelspec": {
   "display_name": "Python 3 (ipykernel)",
   "language": "python",
   "name": "python3"
  },
  "language_info": {
   "codemirror_mode": {
    "name": "ipython",
    "version": 3
   },
   "file_extension": ".py",
   "mimetype": "text/x-python",
   "name": "python",
   "nbconvert_exporter": "python",
   "pygments_lexer": "ipython3",
   "version": "3.8.5"
  }
 },
 "nbformat": 4,
 "nbformat_minor": 1
}
