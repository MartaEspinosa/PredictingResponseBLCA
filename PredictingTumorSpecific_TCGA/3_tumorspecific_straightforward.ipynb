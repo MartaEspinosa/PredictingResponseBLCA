{
 "cells": [
  {
   "cell_type": "markdown",
   "metadata": {},
   "source": [
    "# IDENTIFICATION OF NOVEL CLASSES OF NEOANTIGENS IN CANCER | Tumor specific\n"
   ]
  },
  {
   "cell_type": "code",
   "execution_count": 1,
   "metadata": {
    "ExecuteTime": {
     "end_time": "2023-06-16T08:17:21.645550958Z",
     "start_time": "2023-06-16T08:17:21.375145925Z"
    }
   },
   "outputs": [
    {
     "name": "stderr",
     "output_type": "stream",
     "text": [
      "INFO:numexpr.utils:Note: NumExpr detected 24 cores but \"NUMEXPR_MAX_THREADS\" not set, so enforcing safe limit of 8.\n",
      "INFO:numexpr.utils:NumExpr defaulting to 8 threads.\n"
     ]
    }
   ],
   "source": [
    "import os, glob, re, gtfparse\n",
    "import pandas as pd\n",
    "import numpy as np\n",
    "from Bio import SeqIO\n",
    "from functools import reduce\n"
   ]
  },
  {
   "cell_type": "code",
   "execution_count": 29,
   "metadata": {
    "ExecuteTime": {
     "end_time": "2023-06-16T08:17:21.654282971Z",
     "start_time": "2023-06-16T08:17:21.651110181Z"
    }
   },
   "outputs": [],
   "source": [
    "GENERAL=\"/users/genomics/marta\" # same as previous step\n",
    "projects=[\"BLCA\"] # more project can be added here\n",
    "bash_projects = \" \".join(projects)\n",
    "\n",
    "GENOMEDIR=\"/genomics/users/marta/genomes\"\n",
    "GENOMEFASTA=GENOMEDIR+\"/GRCh38/GRCh38.primary_assembly.genome.fa\""
   ]
  },
  {
   "cell_type": "code",
   "execution_count": 30,
   "metadata": {
    "ExecuteTime": {
     "end_time": "2023-06-16T08:17:21.875233903Z",
     "start_time": "2023-06-16T08:17:21.657654905Z"
    }
   },
   "outputs": [],
   "source": [
    "transcript_gene=pd.read_csv(os.path.join(GENOMEDIR,\"transcript_gene_v41.txt\"), skiprows=1, names=['gene_id', 'gene_name', 'gene_type'])"
   ]
  },
  {
   "cell_type": "markdown",
   "metadata": {},
   "source": [
    "## Tumor-specific"
   ]
  },
  {
   "cell_type": "markdown",
   "metadata": {},
   "source": [
    "Select tumor-specific genes based on gene expression threshold"
   ]
  },
  {
   "cell_type": "code",
   "execution_count": 8,
   "metadata": {
    "ExecuteTime": {
     "end_time": "2023-06-16T08:17:28.269811084Z",
     "start_time": "2023-06-16T08:17:23.050749743Z"
    }
   },
   "outputs": [
    {
     "name": "stdout",
     "output_type": "stream",
     "text": [
      "BLCA\n",
      "Directory exists\n",
      "Directory exists\n",
      "Directory exists\n",
      "Directory exists\n",
      "Directory exists\n",
      "Directory exists\n",
      "Directory exists\n",
      "Directory exists\n",
      "Directory exists\n",
      "Directory exists\n",
      "Directory exists\n",
      "Directory exists\n",
      "Directory exists\n",
      "Directory exists\n",
      "Directory exists\n",
      "Directory exists\n",
      "Directory exists\n",
      "Directory exists\n"
     ]
    }
   ],
   "source": [
    "for proj in projects:\n",
    "    print(proj)\n",
    "    fc = pd.read_csv(os.path.join(GENERAL,proj,\"analysis/07_quantification/straightforward/TPMs_genenames.csv\"))\n",
    "    patients=pd.read_csv(os.path.join(GENERAL,proj,\"results/paired_patients.csv\"))\n",
    "\n",
    "\n",
    "    for index,patient in patients.iterrows():\n",
    "        patient_fc = fc[[\"gene_name\",patient.iloc[1],patient.iloc[2]]]\n",
    "        filename=str(patient.iloc[0])+\"_table_of_counts_TPM_complete.csv\"\n",
    "        patient_fc.to_csv(os.path.join(GENERAL,proj,\"analysis/07_quantification/straightforward\",str(patient.iloc[0]),filename),index=False)\n",
    "\n",
    "        tumor_specific_patient = patient_fc.loc[(patient_fc[patient.iloc[1]] <= 0.1) & (patient_fc[patient.iloc[2]] >= 1)]\n",
    "\n",
    "        filename=str(patient.iloc[0])+\"_tumor_specific_genes_TPM.csv\"\n",
    "        try:\n",
    "            os.makedirs(os.path.join(GENERAL,proj,\"analysis/08_tumor_specific/straightforward\",str(patient.iloc[0])))\n",
    "        except:\n",
    "            print(\"Directory exists\")\n",
    "        tumor_specific_patient.to_csv(os.path.join(GENERAL,proj,\"analysis/08_tumor_specific/straightforward\",str(patient.iloc[0]),filename),index=False)\n",
    "\n"
   ]
  },
  {
   "cell_type": "markdown",
   "metadata": {},
   "source": [
    "Summary"
   ]
  },
  {
   "cell_type": "code",
   "execution_count": 7,
   "metadata": {},
   "outputs": [],
   "source": [
    "%%bash -s \"$bash_projects\" \"$GENERAL\"\n",
    "\n",
    "for proj in $1; do\n",
    "    OUT=$2/$proj/results/tumor_specific_genes_v41.csv\n",
    "\n",
    "    if [ -f \"$OUT\" ] ; then\n",
    "        rm \"$OUT\"\n",
    "    fi\n",
    "    dir=$2/$proj/analysis/08_tumor_specific/straightforward/\n",
    "    cd $dir\n",
    "    echo -e \"Patient,Total tumor-specific genes\">> $OUT\n",
    "\n",
    "    for patient in */; do\n",
    "        ## transcript level\n",
    "        echo -e $patient\",\"$(cat $patient/*_tumor_specific_genes_TPM.csv | tail -n +2 | cut -d, -f1 | sort | uniq | wc -l)>> $OUT\n",
    "\n",
    "    done\n",
    "done"
   ]
  },
  {
   "cell_type": "markdown",
   "metadata": {},
   "source": [
    "### Generate list tumor specific"
   ]
  },
  {
   "cell_type": "markdown",
   "metadata": {},
   "source": [
    "**Known**\n",
    "\n",
    "Coding or non-coding?\n",
    "\n",
    "For the annotated features, we are differentially interested in the coding and non-coding ones (lncRNA/processed_pseudogenes)"
   ]
  },
  {
   "cell_type": "code",
   "execution_count": 19,
   "metadata": {},
   "outputs": [
    {
     "name": "stdout",
     "output_type": "stream",
     "text": [
      "BLCA, 18 patients\n"
     ]
    }
   ],
   "source": [
    "for proj in projects:\n",
    "    patients_dir = [ f.path for f in os.scandir(os.path.join(GENERAL,proj,\"analysis/08_tumor_specific/straightforward\")) if f.is_dir() ]\n",
    "    print(\"%s, %s patients\" %(proj, len(patients_dir)))\n",
    "    genetypes_needed=['lncRNA','processed_pseudogene']\n",
    "\n",
    "    #### outfile for the common list\n",
    "    outfile_noncoding=os.path.join(GENERAL,proj,\"analysis/08_tumor_specific/straightforward/common_tumorspecific_noncoding_genes.csv\")\n",
    "    total_noncoding = pd.DataFrame(columns=['gene_name'])\n",
    "\n",
    "    outfile_coding=os.path.join(GENERAL,proj,\"analysis/08_tumor_specific/straightforward/common_tumorspecific_coding_genes.csv\")\n",
    "    total_coding = pd.DataFrame(columns=['gene_name'])\n",
    "\n",
    "    for p in patients_dir:\n",
    "        p = str(p.split(\"/\")[-1])\n",
    "        try:\n",
    "            csv = pd.read_csv(os.path.join(GENERAL,proj,\"analysis/08_tumor_specific/straightforward\",p)+\"/\"+p+\"_tumor_specific_genes_TPM.csv\")\n",
    "            cds_list = list()\n",
    "            cds_df = pd.DataFrame(columns=['gene_name'])\n",
    "            nocds_list = list()\n",
    "            nocds_df = pd.DataFrame(columns=['gene_name'])\n",
    "\n",
    "            csv_type = csv.merge(transcript_gene, on=['gene_name'], how=\"inner\")\n",
    "            #### lncRNA + processed pseudogenes\n",
    "            NOcsv_selected = csv_type[csv_type['gene_type'].isin(genetypes_needed)]\n",
    "            NOcsv_selected.to_csv(os.path.join(GENERAL,proj,\"analysis/08_tumor_specific/straightforward\",p)+\"/\"+p+\"_tumor_specific_genes_TPM_NOCDS_selected.csv\", index=None)\n",
    "\n",
    "            noncoding = NOcsv_selected[['gene_name','gene_id']]\n",
    "            total_noncoding = pd.concat([total_noncoding, noncoding], axis=0)\n",
    "\n",
    "            #### protein coding\n",
    "            csv_selected = csv_type[csv_type['gene_type'] == \"protein_coding\"]\n",
    "            csv_selected.to_csv(os.path.join(GENERAL,proj,\"analysis/08_tumor_specific/straightforward\",p)+\"/\"+p+\"_tumor_specific_genes_TPM_CDS.csv\", index=None)\n",
    "\n",
    "            coding = csv_selected[['gene_name','gene_id']]\n",
    "            total_coding = pd.concat([total_coding, coding], axis=0)\n",
    "        except:\n",
    "            continue\n",
    "\n",
    "    #### count how many patients have each transcript\n",
    "    total_noncoding['n'] = total_noncoding.groupby('gene_name')['gene_name'].transform('count')\n",
    "    total_noncoding.drop_duplicates(inplace=True)\n",
    "    total_noncoding.sort_values(by=['n'], ascending=False).to_csv(outfile_noncoding, index=None)\n",
    "\n",
    "    total_coding['n']=total_coding.groupby('gene_name')['gene_name'].transform('count')\n",
    "    total_coding.drop_duplicates(inplace=True)\n",
    "    total_coding.sort_values(by=['n'], ascending=False).to_csv(outfile_coding, index=None)\n"
   ]
  },
  {
   "cell_type": "markdown",
   "metadata": {},
   "source": [
    "## Tissue expression control (GTEx)"
   ]
  },
  {
   "cell_type": "code",
   "execution_count": 21,
   "metadata": {},
   "outputs": [],
   "source": [
    "GTEx=pd.read_csv(os.path.join(GENOMEDIR,\"GTEx/GTEx_Analysis_2017-06-05_v8_RNASeQCv1.1.9_gene_median_tpm.gct\"), sep=\"\\t\", skiprows=2)\n",
    "GTEx.drop('Description', inplace=True, axis=1)\n",
    "GTEx['Name'] = GTEx['Name'].str[:-2]\n",
    "for proj in projects:\n",
    "\n",
    "    nocoding = pd.read_csv(os.path.join(GENERAL,proj,\"analysis/08_tumor_specific/straightforward/common_tumorspecific_noncoding_genes.csv\"))\n",
    "    to_compare = nocoding.gene_id.values.tolist()\n",
    "    output = os.path.join(GENERAL,proj,\"analysis/08_tumor_specific/straightforward/GTEX_validated_noncoding_genes.csv\")\n",
    "\n",
    "    shared = GTEx[GTEx['Name'].isin(to_compare)]\n",
    "    shared.to_csv(output, index=False)\n",
    "\n",
    "    coding = pd.read_csv(os.path.join(GENERAL,proj,\"analysis/08_tumor_specific/straightforward/common_tumorspecific_coding_genes.csv\"))\n",
    "    to_compare = coding.gene_id.values.tolist()\n",
    "    output = os.path.join(GENERAL,proj,\"analysis/08_tumor_specific/straightforward/GTEX_validated_coding_genes.csv\")\n",
    "\n",
    "    shared = GTEx[GTEx['Name'].isin(to_compare)]\n",
    "    shared.to_csv(output, index=False)"
   ]
  },
  {
   "cell_type": "markdown",
   "metadata": {},
   "source": [
    "For now, we are only interested in those genes expressed only in **testis** or **ovary**"
   ]
  },
  {
   "cell_type": "code",
   "execution_count": 22,
   "metadata": {},
   "outputs": [
    {
     "name": "stdout",
     "output_type": "stream",
     "text": [
      "BLCA\n",
      "Non-Coding  979\n",
      "Coding  143\n"
     ]
    },
    {
     "name": "stderr",
     "output_type": "stream",
     "text": [
      "/tmp/ipykernel_3853603/4211533258.py:18: SettingWithCopyWarning: \n",
      "A value is trying to be set on a copy of a slice from a DataFrame\n",
      "\n",
      "See the caveats in the documentation: https://pandas.pydata.org/pandas-docs/stable/user_guide/indexing.html#returning-a-view-versus-a-copy\n",
      "  selected_non_coding_GTEx.drop('gt', axis=1, inplace=True)\n",
      "/tmp/ipykernel_3853603/4211533258.py:41: SettingWithCopyWarning: \n",
      "A value is trying to be set on a copy of a slice from a DataFrame\n",
      "\n",
      "See the caveats in the documentation: https://pandas.pydata.org/pandas-docs/stable/user_guide/indexing.html#returning-a-view-versus-a-copy\n",
      "  selected_coding_GTEx.drop('gt', axis=1, inplace=True)\n"
     ]
    }
   ],
   "source": [
    "##  MEDIAN TPM = 0.5\n",
    "for proj in projects:\n",
    "    print(proj)\n",
    "    ### non-coding\n",
    "    common_non_coding = pd.read_csv(os.path.join(GENERAL,proj,\"analysis/08_tumor_specific/straightforward/common_tumorspecific_noncoding_genes.csv\"))\n",
    "    non_coding_GTEx = pd.read_csv(os.path.join(GENERAL,proj,\"analysis/08_tumor_specific/straightforward/GTEX_validated_noncoding_genes.csv\"))\n",
    "    to_save = non_coding_GTEx[['Name','Testis','Ovary']]\n",
    "    non_coding_GTEx.drop(['Testis','Ovary','Name'], axis=1, inplace=True)\n",
    "\n",
    "    # True False greater than 0\n",
    "    non_coding_GTEx_05 = non_coding_GTEx.gt(0.5)\n",
    "\n",
    "    # count True columns (greater than 0)\n",
    "    non_coding_GTEx['gt'] = non_coding_GTEx_05[(non_coding_GTEx_05 == True)].count(axis='columns')\n",
    "\n",
    "    # get rows with no grater than 0\n",
    "    selected_non_coding_GTEx = non_coding_GTEx.loc[non_coding_GTEx['gt'] == 0]\n",
    "    selected_non_coding_GTEx.drop('gt', axis=1, inplace=True)\n",
    "\n",
    "    selected_non_coding_GTEx = pd.merge(to_save, selected_non_coding_GTEx , left_index=True, right_index=True)\n",
    "    identifs_no_healthy_tissues = selected_non_coding_GTEx.Name.values.tolist()\n",
    "    common_non_coding_noGTEx = common_non_coding[common_non_coding['gene_id'].isin(identifs_no_healthy_tissues)]\n",
    "    print(\"Non-Coding \", len(common_non_coding_noGTEx))\n",
    "    common_non_coding_noGTEx.to_csv(os.path.join(GENERAL,proj,\"analysis/08_tumor_specific/straightforward/common_tumorspecific_noncoding_genes_GTExvalidated_testis+ovary05.csv\"), index=False)\n",
    "\n",
    "\n",
    "    ### coding\n",
    "    common_coding = pd.read_csv(os.path.join(GENERAL,proj,\"analysis/08_tumor_specific/straightforward/common_tumorspecific_coding_genes.csv\"))\n",
    "    coding_GTEx = pd.read_csv(os.path.join(GENERAL,proj,\"analysis/08_tumor_specific/straightforward/GTEX_validated_coding_genes.csv\"))\n",
    "    to_save = coding_GTEx[['Name','Testis','Ovary']]\n",
    "    coding_GTEx.drop(['Testis','Ovary','Name'], axis=1, inplace=True)\n",
    "\n",
    "    # True False greater than 0\n",
    "    coding_GTEx_05 = coding_GTEx.gt(0.5)\n",
    "\n",
    "    # count True columns (greater than 0)\n",
    "    coding_GTEx['gt'] = coding_GTEx_05[(coding_GTEx_05 == True)].count(axis='columns')\n",
    "\n",
    "    # get rows with no grater than 0\n",
    "    selected_coding_GTEx = coding_GTEx.loc[coding_GTEx['gt'] == 0]\n",
    "    selected_coding_GTEx.drop('gt', axis=1, inplace=True)\n",
    "    selected_coding_GTEx = pd.merge(to_save, selected_coding_GTEx , left_index=True, right_index=True)\n",
    "    identifs_no_healthy_tissues = selected_coding_GTEx.Name.values.tolist()\n",
    "    common_coding_noGTEx = common_coding[common_coding['gene_id'].isin(identifs_no_healthy_tissues)]\n",
    "    print(\"Coding \", len(common_coding_noGTEx))\n",
    "    common_coding_noGTEx.to_csv(os.path.join(GENERAL,proj,\"analysis/08_tumor_specific/straightforward/common_tumorspecific_coding_genes_GTExvalidated_testis+ovary05.csv\"), index=False)\n"
   ]
  },
  {
   "cell_type": "markdown",
   "metadata": {},
   "source": [
    "Generate mini gtf of:\n",
    "\n",
    "- lncRNA tumor-specific genes not expressed in adult tissues\n",
    "\n",
    "- protein-coding tumor-specific not expressed in adult tissues\n",
    "\n"
   ]
  },
  {
   "cell_type": "code",
   "execution_count": 39,
   "metadata": {},
   "outputs": [
    {
     "name": "stdout",
     "output_type": "stream",
     "text": [
      "BLCA\n",
      "TCGA-GD-A3OP\n",
      "TCGA-K4-A54R\n",
      "TCGA-GD-A3OQ\n",
      "TCGA-GC-A3WC\n",
      "TCGA-CU-A0YN\n",
      "TCGA-GD-A2C5\n",
      "TCGA-K4-A3WV\n",
      "TCGA-BT-A20R\n",
      "TCGA-BT-A20U\n",
      "TCGA-GC-A3BM\n",
      "TCGA-BT-A2LA\n",
      "TCGA-GC-A6I3\n",
      "TCGA-BT-A2LB\n",
      "TCGA-BT-A20Q\n",
      "TCGA-CU-A0YR\n",
      "TCGA-BT-A20W\n",
      "TCGA-K4-A5RI\n",
      "TCGA-BT-A20N\n"
     ]
    }
   ],
   "source": [
    "for proj in projects:\n",
    "    print(proj)\n",
    "\n",
    "    ref = pd.read_csv(\"/users/genomics/sergiov/annotations_and_indexes/gencode.v41.primary_assembly.annotation.gtf\", sep=\"\\t\", header=None, comment=\"#\")\n",
    "    patients_dir = [ f.path for f in os.scandir(os.path.join(GENERAL,proj,\"analysis/08_tumor_specific/straightforward\")) if f.is_dir() ]\n",
    "\n",
    "    NOCDS_GTEx = pd.read_csv(os.path.join(GENERAL,proj,\"analysis/08_tumor_specific/straightforward/common_tumorspecific_noncoding_genes_GTExvalidated_testis+ovary05.csv\"))\n",
    "    GTEx_ids = NOCDS_GTEx.gene_id.values.tolist()\n",
    "\n",
    "    CDS_GTEx = pd.read_csv(os.path.join(GENERAL,proj,\"analysis/08_tumor_specific/straightforward/common_tumorspecific_coding_genes_GTExvalidated_testis+ovary05.csv\"))\n",
    "    CDS_GTEx_ids = CDS_GTEx.gene_id.values.tolist()\n",
    "\n",
    "    for p in patients_dir:\n",
    "        #### non-coding\n",
    "        GTEx_full_lncRNA = pd.DataFrame(columns = [0])\n",
    "        GTEx_full_CDS = pd.DataFrame(columns = [0])\n",
    "        p = str(p.split(\"/\")[-1])\n",
    "        if p != \"rRNA\":\n",
    "            print(p)\n",
    "            CSV_REF=pd.read_csv(os.path.join(GENERAL,proj,\"analysis/08_tumor_specific/straightforward\",p)+\"/\" + p + \"_tumor_specific_genes_TPM_NOCDS_selected.csv\")\n",
    "\n",
    "            CSV_GTEx = CSV_REF[CSV_REF['gene_id'].isin(GTEx_ids)]\n",
    "            CSV_GTEx.to_csv(os.path.join(GENERAL,proj,\"analysis/08_tumor_specific/straightforward\",p)+\"/\" + p + \"_tumor_specific_genes_TPM_NOCDS_selected_GTEx05.csv\", index=None)\n",
    "            CSV_GTEx_ids = CSV_GTEx.gene_id.values.tolist()\n",
    "            for geneid in CSV_GTEx_ids:\n",
    "                GTEx = ref[ref[8].str.contains(geneid)]\n",
    "                GTEx_full_lncRNA = pd.concat([GTEx, GTEx_full_lncRNA])\n",
    "\n",
    "            GTEx_full_lncRNA.drop_duplicates(inplace=True)\n",
    "            GTEx_full_lncRNA.to_csv(os.path.join(GENERAL,proj,\"analysis/08_tumor_specific/straightforward\",p)+\"/\" + p + \"_tumor_specific_genes_TPM_NOCDS_selected_GTEx05.gtf\", sep=\"\\t\", header=None, index=None, quoting = 3)\n",
    "\n",
    "            #### coding\n",
    "            CSV_REF=pd.read_csv(os.path.join(GENERAL,proj,\"analysis/08_tumor_specific/straightforward\",p)+\"/\" + p + \"_tumor_specific_genes_TPM_CDS.csv\")\n",
    "\n",
    "            CSV_GTEx = CSV_REF[CSV_REF['gene_id'].isin(CDS_GTEx_ids)]\n",
    "            CSV_GTEx.to_csv(os.path.join(GENERAL,proj,\"analysis/08_tumor_specific/straightforward\",p)+\"/\" + p + \"_tumor_specific_genes_TPM_CDS_GTEx05.csv\", index=None)\n",
    "            CSV_GTEx_ids = CSV_GTEx.gene_id.values.tolist()\n",
    "            for geneid in CSV_GTEx_ids:\n",
    "                GTEx = ref[ref[8].str.contains(geneid)]\n",
    "                GTEx_full_CDS = pd.concat([GTEx, GTEx_full_CDS])\n",
    "\n",
    "            GTEx_full_CDS.drop_duplicates(inplace=True)\n",
    "            GTEx_full_CDS.to_csv(os.path.join(GENERAL,proj,\"analysis/08_tumor_specific/straightforward\",p)+\"/\" + p + \"_tumor_specific_genes_TPM_CDS_GTEx05.gtf\", sep=\"\\t\", header=None, index=None, quoting = 3)\n",
    "            print(\"Patient %s processed\" %(p))\n"
   ]
  },
  {
   "cell_type": "markdown",
   "metadata": {},
   "source": [
    "Summary"
   ]
  },
  {
   "cell_type": "code",
   "execution_count": 40,
   "metadata": {},
   "outputs": [],
   "source": [
    "%%bash -s \"$bash_projects\" \"$GENERAL\"\n",
    "\n",
    "for proj in $1; do\n",
    "    OUT=$2/$proj/results/tumor_specific_genes_GTEx_TPM05_v41.csv\n",
    "    if [ -f \"$OUT\" ] ; then\n",
    "        rm \"$OUT\"\n",
    "    fi\n",
    "    dir=$2/$proj/analysis/08_tumor_specific/straightforward\n",
    "    cd $dir\n",
    "    echo -e \"Patient,Coding genes,Non-coding genes\">> $OUT\n",
    "\n",
    "    for patient in */; do\n",
    "        echo -e $patient\",\"$(cat $patient/*_tumor_specific_genes_TPM_CDS_GTEx05.csv | tail -n +2 | cut -d, -f1 | sort | uniq | wc -l)\",\"$(cat $patient/*_tumor_specific_genes_TPM_NOCDS_selected_GTEx05.csv | tail -n +2 | wc -l) >> $OUT\n",
    "\n",
    "    done\n",
    "done"
   ]
  },
  {
   "cell_type": "markdown",
   "metadata": {},
   "source": [
    "Get fasta of non-coding"
   ]
  },
  {
   "cell_type": "code",
   "execution_count": 41,
   "metadata": {
    "scrolled": true
   },
   "outputs": [
    {
     "name": "stdout",
     "output_type": "stream",
     "text": [
      "BLCA\n",
      "TCGA-BT-A20N\n",
      "TCGA-BT-A20N\n",
      "TCGA-BT-A20Q\n",
      "TCGA-BT-A20Q\n",
      "TCGA-BT-A20R\n",
      "TCGA-BT-A20R\n",
      "TCGA-BT-A20U\n",
      "TCGA-BT-A20U\n",
      "TCGA-BT-A20W\n",
      "TCGA-BT-A20W\n",
      "TCGA-BT-A2LA\n",
      "TCGA-BT-A2LA\n",
      "TCGA-BT-A2LB\n",
      "TCGA-BT-A2LB\n",
      "TCGA-CU-A0YN\n",
      "TCGA-CU-A0YN\n",
      "TCGA-CU-A0YR\n",
      "TCGA-CU-A0YR\n",
      "TCGA-GC-A3BM\n",
      "TCGA-GC-A3BM\n",
      "TCGA-GC-A3WC\n",
      "TCGA-GC-A3WC\n",
      "TCGA-GC-A6I3\n",
      "TCGA-GC-A6I3\n",
      "TCGA-GD-A2C5\n",
      "TCGA-GD-A2C5\n",
      "TCGA-GD-A3OP\n",
      "TCGA-GD-A3OP\n",
      "TCGA-GD-A3OQ\n",
      "TCGA-GD-A3OQ\n",
      "TCGA-K4-A3WV\n",
      "TCGA-K4-A3WV\n",
      "TCGA-K4-A54R\n",
      "TCGA-K4-A54R\n",
      "TCGA-K4-A5RI\n",
      "TCGA-K4-A5RI\n"
     ]
    }
   ],
   "source": [
    "%%bash -s \"$GENERAL\" \"$bash_projects\" \"$GENOMEFASTA\"\n",
    "\n",
    "export PATH=/genomics/users/marta/tools/gffread-0.12.7.Linux_x86_64/:$PATH\n",
    "\n",
    "for proj in $2; do\n",
    "    echo $proj\n",
    "    for patient in $1/$proj/analysis/08_tumor_specific/straightforward/TCGA*; do\n",
    "        p=${patient##*/}\n",
    "        echo $p\n",
    "        p=${p%%/*}\n",
    "        echo $p\n",
    "        file=$1/$proj/analysis/08_tumor_specific/straightforward/${p}/${p}_tumor_specific_genes_TPM_NOCDS_selected_GTEx05.gtf\n",
    "\n",
    "        #get fasta\n",
    "        gffread --attrs gene_name,transcript_type,transcript_name -w ${file%%.*}.fa -g $3 $file\n",
    "\n",
    "        #replace spaces by ;\n",
    "        sed -i 's/\\ /;/g' ${file%%.*}.fa\n",
    "    done\n",
    "done"
   ]
  },
  {
   "cell_type": "code",
   "execution_count": 48,
   "metadata": {},
   "outputs": [
    {
     "name": "stdout",
     "output_type": "stream",
     "text": [
      "BLCA\n",
      "TCGA-BT-A20N\n",
      "TCGA-BT-A20Q\n",
      "TCGA-BT-A20R\n",
      "TCGA-BT-A20U\n",
      "TCGA-BT-A20W\n",
      "TCGA-BT-A2LA\n",
      "TCGA-BT-A2LB\n",
      "TCGA-CU-A0YN\n",
      "TCGA-CU-A0YR\n",
      "TCGA-GC-A3BM\n",
      "TCGA-GC-A3WC\n",
      "TCGA-GC-A6I3\n",
      "TCGA-GD-A2C5\n",
      "TCGA-GD-A3OP\n",
      "TCGA-GD-A3OQ\n",
      "TCGA-K4-A3WV\n",
      "TCGA-K4-A54R\n",
      "TCGA-K4-A5RI\n"
     ]
    }
   ],
   "source": [
    "%%bash -s \"$GENERAL\" \"$bash_projects\" \"$GENOMEDIR\"\n",
    "\n",
    "for proj in $2; do\n",
    "    echo $proj\n",
    "    for patient in $1/$proj/analysis/08_tumor_specific/straightforward/TCGA*; do\n",
    "        p=${patient##*/}\n",
    "        p=${p%%/*}\n",
    "        echo $p\n",
    "        file=$1/$proj/analysis/08_tumor_specific/straightforward/${p}/${p}_tumor_specific_genes_TPM_NOCDS_selected_GTEx05.fa\n",
    "        awk '/^>/ {printf(\"\\n%s\\n\",$0);next; } { printf(\"%s\",$0);}  END {printf(\"\\n\");}' < $file > ${file%%.*}_oneline.fa\n",
    "    done\n",
    "done\n"
   ]
  },
  {
   "cell_type": "markdown",
   "metadata": {},
   "source": [
    "for the fasta sequences, keep the longest transcript"
   ]
  },
  {
   "cell_type": "code",
   "execution_count": 103,
   "metadata": {},
   "outputs": [],
   "source": [
    "for proj in projects:\n",
    "    patients = [o for o in os.listdir(os.path.join(GENERAL,proj,\"analysis/08_tumor_specific/straightforward/\")) if os.path.isdir(os.path.join(os.path.join(GENERAL,proj,\"analysis/08_tumor_specific/straightforward/\"),o))]\n",
    "\n",
    "    for p in patients:\n",
    "        df = pd.read_csv(os.path.join(GENERAL,proj,\"analysis/08_tumor_specific/straightforward\",p)+\"/\"+p+\"_tumor_specific_genes_TPM_NOCDS_selected_GTEx05_oneline.fa\", header=None, sep=\"\\t\")\n",
    "\n",
    "        headers = df[df[0].str.startswith(\">\")]\n",
    "        headers = headers[0].values.tolist()\n",
    "\n",
    "        sequences = df[~df[0].str.startswith(\">\")]\n",
    "        sequences = sequences[0].values.tolist()\n",
    "\n",
    "        fasta = pd.DataFrame({'header':headers, 'seq':sequences})\n",
    "        fasta['length'] = fasta['seq'].str.len()\n",
    "        fasta['gene_name'] = fasta['header'].str.split(\"=\", expand=True)[1]\n",
    "        fasta['gene_name'] = fasta['gene_name'].str.split(\";\", expand=True)[0]\n",
    "        \n",
    "        # select longest transcript per gene\n",
    "        longest = fasta.groupby('gene_name').max('length').reset_index()\n",
    "\n",
    "        fasta_longest = fasta.merge(longest, on=['gene_name','length'])\n",
    "        fasta_longest = fasta_longest[['header','seq']]\n",
    "        \n",
    "        with open(os.path.join(GENERAL,proj,\"analysis/08_tumor_specific/straightforward\",p)+\"/\"+p+\"_tumor_specific_genes_TPM_NOCDS_selected_GTEx05_oneline_longest.fa\", 'w') as output_file:\n",
    "            for index,row in fasta_longest.iterrows():\n",
    "                output_file.write(row['header'] + '\\n' + row['seq'] + '\\n')\n",
    "        \n",
    "        \n",
    "        "
   ]
  },
  {
   "cell_type": "code",
   "execution_count": 104,
   "metadata": {},
   "outputs": [
    {
     "name": "stdout",
     "output_type": "stream",
     "text": [
      "BLCA\n",
      "TCGA-BT-A20N\t86\t86\n",
      "TCGA-BT-A20Q\t41\t41\n",
      "TCGA-BT-A20R\t142\t142\n",
      "TCGA-BT-A20U\t34\t34\n",
      "TCGA-BT-A20W\t35\t35\n",
      "TCGA-BT-A2LA\t446\t447\n",
      "TCGA-BT-A2LB\t54\t54\n",
      "TCGA-CU-A0YN\t66\t66\n",
      "TCGA-CU-A0YR\t33\t33\n",
      "TCGA-GC-A3BM\t33\t33\n",
      "TCGA-GC-A3WC\t120\t120\n",
      "TCGA-GC-A6I3\t44\t44\n",
      "TCGA-GD-A2C5\t15\t15\n",
      "TCGA-GD-A3OP\t7\t7\n",
      "TCGA-GD-A3OQ\t25\t25\n",
      "TCGA-K4-A3WV\t152\t152\n",
      "TCGA-K4-A54R\t44\t44\n",
      "TCGA-K4-A5RI\t58\t58\n"
     ]
    }
   ],
   "source": [
    "%%bash -s \"$GENERAL\" \"$bash_projects\" \"$GENOMEDIR\"\n",
    "\n",
    "## count fasta sequences to prove the process has been correctly done\n",
    "for proj in $2; do\n",
    "    echo $proj\n",
    "    for patient in $1/$proj/analysis/08_tumor_specific/straightforward/TCGA*; do\n",
    "        p=${patient##*/}\n",
    "        p=${p%%/*}\n",
    "        echo -e $p\"\\t\"$(cat $1/$proj/analysis/08_tumor_specific/straightforward/${p}/${p}_tumor_specific_genes_TPM_NOCDS_selected_GTEx05.csv | tail -n +2 | wc -l)\"\\t\"$(grep '>' $1/$proj/analysis/08_tumor_specific/straightforward/${p}/${p}_tumor_specific_genes_TPM_NOCDS_selected_GTEx05_oneline_longest.fa | cut -d\";\" -f1 | sort | uniq | wc -l)\n",
    "    done\n",
    "done"
   ]
  },
  {
   "cell_type": "markdown",
   "metadata": {},
   "source": [
    "Get fasta of coding CDS"
   ]
  },
  {
   "cell_type": "code",
   "execution_count": 107,
   "metadata": {},
   "outputs": [
    {
     "name": "stdout",
     "output_type": "stream",
     "text": [
      "BLCA\n",
      "TCGA-BT-A20N\n",
      "TCGA-BT-A20Q\n",
      "TCGA-BT-A20R\n",
      "TCGA-BT-A20U\n",
      "TCGA-BT-A20W\n",
      "TCGA-BT-A2LA\n",
      "TCGA-BT-A2LB\n",
      "TCGA-CU-A0YN\n",
      "TCGA-CU-A0YR\n",
      "TCGA-GC-A3BM\n",
      "TCGA-GC-A3WC\n",
      "TCGA-GC-A6I3\n",
      "TCGA-GD-A2C5\n",
      "TCGA-GD-A3OP\n",
      "TCGA-GD-A3OQ\n",
      "TCGA-K4-A3WV\n",
      "TCGA-K4-A54R\n",
      "TCGA-K4-A5RI\n"
     ]
    }
   ],
   "source": [
    "%%bash -s \"$GENERAL\" \"$bash_projects\" \"$GENOMEFASTA\"\n",
    "\n",
    "export PATH=/genomics/users/marta/tools/gffread-0.12.7.Linux_x86_64/:$PATH\n",
    "\n",
    "for proj in $2; do\n",
    "    echo $proj\n",
    "    for patient in $1/$proj/analysis/08_tumor_specific/straightforward/TCGA*; do\n",
    "        p=${patient##*/}\n",
    "        p=${p%%/*}\n",
    "        echo $p\n",
    "        file=$1/$proj/analysis/08_tumor_specific/straightforward/${p}/${p}_tumor_specific_genes_TPM_CDS_GTEx05.gtf\n",
    "\n",
    "        #get fasta\n",
    "        gffread --attrs gene_name,transcript_name -x ${file%%.*}.fa -g $3 $file\n",
    "\n",
    "        #replace spaces by ;\n",
    "        sed -i 's/\\ /;/g' ${file%%.*}.fa\n",
    "    done\n",
    "done"
   ]
  },
  {
   "cell_type": "code",
   "execution_count": 108,
   "metadata": {},
   "outputs": [
    {
     "name": "stdout",
     "output_type": "stream",
     "text": [
      "BLCA\n",
      "TCGA-BT-A20N\n",
      "TCGA-BT-A20Q\n",
      "TCGA-BT-A20R\n",
      "TCGA-BT-A20U\n",
      "TCGA-BT-A20W\n",
      "TCGA-BT-A2LA\n",
      "TCGA-BT-A2LB\n",
      "TCGA-CU-A0YN\n",
      "TCGA-CU-A0YR\n",
      "TCGA-GC-A3BM\n",
      "TCGA-GC-A3WC\n",
      "TCGA-GC-A6I3\n",
      "TCGA-GD-A2C5\n",
      "TCGA-GD-A3OP\n",
      "TCGA-GD-A3OQ\n",
      "TCGA-K4-A3WV\n",
      "TCGA-K4-A54R\n",
      "TCGA-K4-A5RI\n"
     ]
    }
   ],
   "source": [
    "%%bash -s \"$GENERAL\" \"$bash_projects\" \"$GENOMEDIR\"\n",
    "\n",
    "for proj in $2; do\n",
    "    echo $proj\n",
    "    for patient in $1/$proj/analysis/08_tumor_specific/straightforward/TCGA*; do\n",
    "        p=${patient##*/}\n",
    "        p=${p%%/*}\n",
    "        echo $p\n",
    "        file=$1/$proj/analysis/08_tumor_specific/straightforward/${p}/${p}_tumor_specific_genes_TPM_CDS_GTEx05.fa\n",
    "        awk '/^>/ {printf(\"\\n%s\\n\",$0);next; } { printf(\"%s\",$0);}  END {printf(\"\\n\");}' < $file > ${file%%.*}_oneline.fa\n",
    "    done\n",
    "done\n"
   ]
  },
  {
   "cell_type": "markdown",
   "metadata": {},
   "source": [
    "for the fasta sequences, keep the longest transcript"
   ]
  },
  {
   "cell_type": "code",
   "execution_count": 111,
   "metadata": {},
   "outputs": [
    {
     "name": "stdout",
     "output_type": "stream",
     "text": [
      "Patient  TCGA-GC-A3BM  has no protein-coding tumor-specific genes\n",
      "Patient  TCGA-BT-A20W  has no protein-coding tumor-specific genes\n"
     ]
    }
   ],
   "source": [
    "for proj in projects:\n",
    "    patients = [o for o in os.listdir(os.path.join(GENERAL,proj,\"analysis/08_tumor_specific/straightforward/\")) if os.path.isdir(os.path.join(os.path.join(GENERAL,proj,\"analysis/08_tumor_specific/straightforward/\"),o))]\n",
    "\n",
    "    for p in patients:\n",
    "        try:\n",
    "            df = pd.read_csv(os.path.join(GENERAL,proj,\"analysis/08_tumor_specific/straightforward\",p)+\"/\"+p+\"_tumor_specific_genes_TPM_CDS_GTEx05_oneline.fa\", header=None, sep=\"\\t\")\n",
    "\n",
    "            headers = df[df[0].str.startswith(\">\")]\n",
    "            headers = headers[0].values.tolist()\n",
    "\n",
    "            sequences = df[~df[0].str.startswith(\">\")]\n",
    "            sequences = sequences[0].values.tolist()\n",
    "\n",
    "            fasta = pd.DataFrame({'header':headers, 'seq':sequences})\n",
    "            fasta['length'] = fasta['seq'].str.len()\n",
    "            fasta['gene_name'] = fasta['header'].str.split(\"=\", expand=True)[1]\n",
    "            fasta['gene_name'] = fasta['gene_name'].str.split(\";\", expand=True)[0]\n",
    "\n",
    "            # select longest transcript per gene\n",
    "            longest = fasta.groupby('gene_name').max('length').reset_index()\n",
    "\n",
    "            fasta_longest = fasta.merge(longest, on=['gene_name','length'])\n",
    "            fasta_longest = fasta_longest[['header','seq']]\n",
    "\n",
    "            with open(os.path.join(GENERAL,proj,\"analysis/08_tumor_specific/straightforward\",p)+\"/\"+p+\"_tumor_specific_genes_TPM_CDS_GTEx05_oneline_longest.fa\", 'w') as output_file:\n",
    "                for index,row in fasta_longest.iterrows():\n",
    "                    output_file.write(row['header'] + '\\n' + row['seq'] + '\\n')\n",
    "        except:\n",
    "            print(\"Patient \",p,\" has no protein-coding tumor-specific genes\")\n",
    "        \n",
    "        "
   ]
  },
  {
   "cell_type": "code",
   "execution_count": 113,
   "metadata": {},
   "outputs": [
    {
     "name": "stdout",
     "output_type": "stream",
     "text": [
      "TCGA-BT-A20N\t9\t12\n",
      "TCGA-BT-A20Q\t2\t2\n",
      "TCGA-BT-A20R\t34\t47\n",
      "TCGA-BT-A20U\t5\t5\n"
     ]
    },
    {
     "name": "stderr",
     "output_type": "stream",
     "text": [
      "grep: /users/genomics/marta/BLCA/analysis/08_tumor_specific/straightforward/TCGA-BT-A20W/TCGA-BT-A20W_tumor_specific_genes_TPM_CDS_GTEx05_oneline_longest.fa: No such file or directory\n"
     ]
    },
    {
     "name": "stdout",
     "output_type": "stream",
     "text": [
      "TCGA-BT-A20W\t0\t0\n",
      "TCGA-BT-A2LA\t68\t79\n",
      "TCGA-BT-A2LB\t12\t15\n",
      "TCGA-CU-A0YN\t9\t10\n",
      "TCGA-CU-A0YR\t7\t8\n"
     ]
    },
    {
     "name": "stderr",
     "output_type": "stream",
     "text": [
      "grep: /users/genomics/marta/BLCA/analysis/08_tumor_specific/straightforward/TCGA-GC-A3BM/TCGA-GC-A3BM_tumor_specific_genes_TPM_CDS_GTEx05_oneline_longest.fa: No such file or directory\n"
     ]
    },
    {
     "name": "stdout",
     "output_type": "stream",
     "text": [
      "TCGA-GC-A3BM\t0\t0\n",
      "TCGA-GC-A3WC\t22\t31\n",
      "TCGA-GC-A6I3\t10\t13\n",
      "TCGA-GD-A2C5\t4\t5\n",
      "TCGA-GD-A3OP\t1\t2\n",
      "TCGA-GD-A3OQ\t9\t11\n",
      "TCGA-K4-A3WV\t21\t26\n",
      "TCGA-K4-A54R\t7\t7\n",
      "TCGA-K4-A5RI\t12\t18\n"
     ]
    }
   ],
   "source": [
    "%%bash -s \"$GENERAL\" \"$bash_projects\" \"$GENOMEDIR\"\n",
    "\n",
    "## count fasta sequences to prove the process has been correctly done\n",
    "for proj in $2; do\n",
    "    for patient in $1/$proj/analysis/08_tumor_specific/straightforward/TCGA*; do\n",
    "        p=${patient##*/}\n",
    "        p=${p%%/*}\n",
    "        echo -e $p\"\\t\"$(cat $1/$proj/analysis/08_tumor_specific/straightforward/${p}/${p}_tumor_specific_genes_TPM_CDS_GTEx05.csv | tail -n +2 | wc -l)\"\\t\"$(grep '>' $1/$proj/analysis/08_tumor_specific/straightforward/${p}/${p}_tumor_specific_genes_TPM_CDS_GTEx05_oneline_longest.fa | cut -d\";\" -f1 | sort | uniq | wc -l)\n",
    "    done\n",
    "done"
   ]
  }
 ],
 "metadata": {
  "kernelspec": {
   "display_name": "Python 3 (ipykernel)",
   "language": "python",
   "name": "python3"
  },
  "language_info": {
   "codemirror_mode": {
    "name": "ipython",
    "version": 3
   },
   "file_extension": ".py",
   "mimetype": "text/x-python",
   "name": "python",
   "nbconvert_exporter": "python",
   "pygments_lexer": "ipython3",
   "version": "3.8.5"
  }
 },
 "nbformat": 4,
 "nbformat_minor": 1
}
