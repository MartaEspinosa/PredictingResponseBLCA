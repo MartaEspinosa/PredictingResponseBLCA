{
 "cells": [
  {
   "cell_type": "markdown",
   "source": [
    "# IDENTIFICATION OF NOVEL CLASSES OF NEOANTIGENS IN CANCER | Data preprocessing"
   ],
   "metadata": {
    "collapsed": false
   }
  },
  {
   "cell_type": "code",
   "execution_count": null,
   "outputs": [],
   "source": [
    "import os\n",
    "import pandas as pd\n",
    "from Bio import SeqIO\n"
   ],
   "metadata": {
    "collapsed": false
   }
  },
  {
   "cell_type": "code",
   "execution_count": null,
   "outputs": [],
   "source": [
    "# establish paths and create folders to make it easier to work later on. This can be adjusted.\n",
    "# This script is personalized per each dataset\n",
    "PROJECT=\"BLCA\"\n",
    "GENERAL=\"/users/genomics/marta\"\n",
    "DIR=os.path.join(GENERAL,PROJECT)\n",
    "try:\n",
    "    os.makedirs(DIR) #path where to store all the itermediate steps and outputs of the pipeline\n",
    "except:\n",
    "    print(\"Directory for %s already exists\" %PROJECT)\n",
    "\n",
    "TCGA_DATA=\"/datasets/marta/TCGA/BLCA\"\n",
    "\n",
    "FASTQDIR=os.path.join(TCGA_DATA,\"fastq_files\") #path where to store fastq files\n",
    "try:\n",
    "    os.mkdir(FASTQDIR)\n",
    "except:\n",
    "    print(\"Fastq_files directory exists\")\n",
    "\n",
    "GENOMEDIR=\"/genomics/users/marta/genomes\"\n",
    "\n",
    "try:\n",
    "    os.makedirs(os.path.join(DIR,\"analysis\"))\n",
    "    os.makedirs(os.path.join(DIR,\"results\"))\n",
    "    #os.makedirs(os.path.join(DIR,\"scripts\"))\n",
    "except:\n",
    "    print(\"Directory exists\")\n",
    "\n"
   ],
   "metadata": {
    "collapsed": false
   }
  },
  {
   "cell_type": "markdown",
   "source": [
    "## Convert from bam to fastq data"
   ],
   "metadata": {
    "collapsed": false
   }
  },
  {
   "cell_type": "code",
   "execution_count": null,
   "outputs": [],
   "source": [
    "%%bash -s \"$PROJECT\" \"$TCGA_DATA\" \"$DIR\"\n",
    "\n",
    "module load Java/11.0.2\n",
    "module load picard/2.25.1-Java-11\n",
    "\n",
    "\n",
    "# cat $2/patients.csv | tail -n +2 | while IFS=, read patient normal tumor gender age; do\n",
    "cat $2/paired_patients.csv | tail -n +2 | while IFS=, read patient normal tumor ; do\n",
    "\n",
    "    for bam in $2/${normal}/*.bam; do\n",
    "        echo ${bam##*/}\n",
    "        java -jar $EBROOTPICARD/picard.jar SamToFastq I=$bam F=$2/${normal}/${patient}_normal_r1.fastq F2=$2/${normal}/${patient}_normal_r2.fastq\n",
    "    done\n",
    "    for bam in $2/$tumor/*bam; do\n",
    "        echo ${bam##*/}\n",
    "        java -jar $EBROOTPICARD/picard.jar SamToFastq I=$bam F=$2/${tumor}/${patient}_tumor_r1.fastq F2=$2/${tumor}/${patient}_tumor_r2.fastq\n",
    "    done\n",
    "done"
   ],
   "metadata": {
    "collapsed": false
   }
  },
  {
   "cell_type": "code",
   "execution_count": null,
   "outputs": [],
   "source": [
    "%%bash -s \"$TCGA_DATA\"\n",
    "\n",
    "outdir=$1/fastq_files\n",
    "\n",
    "for file in $1/*/*.fastq; do\n",
    "    echo ${file##*/}\n",
    "    if [[ ! -f  ${file}.gz  ]]; then\n",
    "        echo \"starting gzip\"\n",
    "        gzip $file\n",
    "        cp ${file}.gz $outdir\n",
    "        echo \"done\"\n",
    "    else\n",
    "        echo \"previously gziped\"\n",
    "    fi\n",
    "done\n"
   ],
   "metadata": {
    "collapsed": false
   }
  },
  {
   "cell_type": "markdown",
   "source": [
    "### Generate a csv file with patients ids"
   ],
   "metadata": {
    "collapsed": false
   }
  },
  {
   "cell_type": "code",
   "execution_count": null,
   "outputs": [],
   "source": [
    "full_files = [x.split(\"/\")[-1].split(\"_\")[0] for x in os.listdir(os.path.join(TCGA_DATA,\"fastq_files\")) if x.endswith(\".gz\")]\n",
    "# files = [x.split(\"_\")[0] for x in full_files]\n",
    "\n",
    "patients = pd.DataFrame({'patient':full_files})\n",
    "patients['normal'] = patients['patient'] + \"_normal\"\n",
    "patients['tumor'] = patients['patient'] + \"_tumor\"\n",
    "patients.to_csv(os.path.join(DIR,\"results/paired_patients.csv\"), index=None)\n",
    "patients"
   ],
   "metadata": {
    "collapsed": false
   }
  }
 ],
 "metadata": {
  "kernelspec": {
   "display_name": "Python 3",
   "language": "python",
   "name": "python3"
  },
  "language_info": {
   "codemirror_mode": {
    "name": "ipython",
    "version": 2
   },
   "file_extension": ".py",
   "mimetype": "text/x-python",
   "name": "python",
   "nbconvert_exporter": "python",
   "pygments_lexer": "ipython2",
   "version": "2.7.6"
  }
 },
 "nbformat": 4,
 "nbformat_minor": 0
}
